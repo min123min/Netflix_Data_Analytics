{
 "cells": [
  {
   "cell_type": "code",
   "execution_count": 1,
   "metadata": {},
   "outputs": [],
   "source": [
    "import numpy as np \n",
    "import pandas as pd \n",
    "import os\n",
    "from numpy import median, mean"
   ]
  },
  {
   "cell_type": "code",
   "execution_count": 2,
   "metadata": {},
   "outputs": [
    {
     "data": {
      "text/html": [
       "<div>\n",
       "<style scoped>\n",
       "    .dataframe tbody tr th:only-of-type {\n",
       "        vertical-align: middle;\n",
       "    }\n",
       "\n",
       "    .dataframe tbody tr th {\n",
       "        vertical-align: top;\n",
       "    }\n",
       "\n",
       "    .dataframe thead th {\n",
       "        text-align: right;\n",
       "    }\n",
       "</style>\n",
       "<table border=\"1\" class=\"dataframe\">\n",
       "  <thead>\n",
       "    <tr style=\"text-align: right;\">\n",
       "      <th></th>\n",
       "      <th>IMDB_titleID</th>\n",
       "      <th>IMDB_rating</th>\n",
       "      <th>IMDB_title_name</th>\n",
       "    </tr>\n",
       "  </thead>\n",
       "  <tbody>\n",
       "    <tr>\n",
       "      <th>0</th>\n",
       "      <td>/title/tt4922804/</td>\n",
       "      <td>7.4 based on 21,831 user ratings</td>\n",
       "      <td>3% (2016) (TV Series)</td>\n",
       "    </tr>\n",
       "    <tr>\n",
       "      <th>1</th>\n",
       "      <td>/title/tt5979312/</td>\n",
       "      <td>5.9 based on 570 user ratings</td>\n",
       "      <td>7:19 (2016)</td>\n",
       "    </tr>\n",
       "    <tr>\n",
       "      <th>2</th>\n",
       "      <td>/title/tt2100376/</td>\n",
       "      <td>4.6 based on 848 user ratings</td>\n",
       "      <td>23:59 (2011)</td>\n",
       "    </tr>\n",
       "    <tr>\n",
       "      <th>3</th>\n",
       "      <td>/title/tt0472033/</td>\n",
       "      <td>7.1 based on 133,646 user ratings</td>\n",
       "      <td>9 (I) (2009)</td>\n",
       "    </tr>\n",
       "    <tr>\n",
       "      <th>4</th>\n",
       "      <td>/title/tt0478087/</td>\n",
       "      <td>6.8 based on 230,214 user ratings</td>\n",
       "      <td>21 (2008)</td>\n",
       "    </tr>\n",
       "  </tbody>\n",
       "</table>\n",
       "</div>"
      ],
      "text/plain": [
       "        IMDB_titleID                        IMDB_rating  \\\n",
       "0  /title/tt4922804/   7.4 based on 21,831 user ratings   \n",
       "1  /title/tt5979312/      5.9 based on 570 user ratings   \n",
       "2  /title/tt2100376/      4.6 based on 848 user ratings   \n",
       "3  /title/tt0472033/  7.1 based on 133,646 user ratings   \n",
       "4  /title/tt0478087/  6.8 based on 230,214 user ratings   \n",
       "\n",
       "           IMDB_title_name  \n",
       "0   3% (2016) (TV Series)   \n",
       "1             7:19 (2016)   \n",
       "2            23:59 (2011)   \n",
       "3            9 (I) (2009)   \n",
       "4               21 (2008)   "
      ]
     },
     "execution_count": 2,
     "metadata": {},
     "output_type": "execute_result"
    }
   ],
   "source": [
    "IMDBscore = pd.read_csv('C:/Users/oisin/Downloads/IMDB_results_febuary 21 2021 cleaner.csv')\n",
    "IMDBscore.head(5)"
   ]
  },
  {
   "cell_type": "code",
   "execution_count": 3,
   "metadata": {},
   "outputs": [
    {
     "data": {
      "text/plain": [
       "0                                 3% (2016) (TV Series) \n",
       "1                                           7:19 (2016) \n",
       "2                                          23:59 (2011) \n",
       "3                                          9 (I) (2009) \n",
       "4                                             21 (2008) \n",
       "                              ...                       \n",
       "7782                                        Zozo (2005) \n",
       "7783                                      Zubaan (2015) \n",
       "7784                                           Not Found\n",
       "7785           Zumbo's Just Desserts (2016) (TV Series) \n",
       "7786     ZZ Top: That Little Ol' Band from Texas (2019) \n",
       "Name: IMDB_title_name, Length: 7787, dtype: object"
      ]
     },
     "execution_count": 3,
     "metadata": {},
     "output_type": "execute_result"
    }
   ],
   "source": [
    "IMDBscore.IMDB_title_name"
   ]
  },
  {
   "cell_type": "code",
   "execution_count": 4,
   "metadata": {},
   "outputs": [],
   "source": [
    "IMDBscorecleaner = IMDBscore.dropna()"
   ]
  },
  {
   "cell_type": "code",
   "execution_count": 5,
   "metadata": {},
   "outputs": [
    {
     "data": {
      "text/html": [
       "<div>\n",
       "<style scoped>\n",
       "    .dataframe tbody tr th:only-of-type {\n",
       "        vertical-align: middle;\n",
       "    }\n",
       "\n",
       "    .dataframe tbody tr th {\n",
       "        vertical-align: top;\n",
       "    }\n",
       "\n",
       "    .dataframe thead th {\n",
       "        text-align: right;\n",
       "    }\n",
       "</style>\n",
       "<table border=\"1\" class=\"dataframe\">\n",
       "  <thead>\n",
       "    <tr style=\"text-align: right;\">\n",
       "      <th></th>\n",
       "      <th>IMDB_titleID</th>\n",
       "      <th>IMDB_rating</th>\n",
       "      <th>IMDB_title_name</th>\n",
       "    </tr>\n",
       "  </thead>\n",
       "  <tbody>\n",
       "    <tr>\n",
       "      <th>0</th>\n",
       "      <td>/title/tt4922804/</td>\n",
       "      <td>7.4 based on 21,831 user ratings</td>\n",
       "      <td>3% (2016) (TV Series)</td>\n",
       "    </tr>\n",
       "    <tr>\n",
       "      <th>1</th>\n",
       "      <td>/title/tt5979312/</td>\n",
       "      <td>5.9 based on 570 user ratings</td>\n",
       "      <td>7:19 (2016)</td>\n",
       "    </tr>\n",
       "    <tr>\n",
       "      <th>2</th>\n",
       "      <td>/title/tt2100376/</td>\n",
       "      <td>4.6 based on 848 user ratings</td>\n",
       "      <td>23:59 (2011)</td>\n",
       "    </tr>\n",
       "    <tr>\n",
       "      <th>3</th>\n",
       "      <td>/title/tt0472033/</td>\n",
       "      <td>7.1 based on 133,646 user ratings</td>\n",
       "      <td>9 (I) (2009)</td>\n",
       "    </tr>\n",
       "    <tr>\n",
       "      <th>4</th>\n",
       "      <td>/title/tt0478087/</td>\n",
       "      <td>6.8 based on 230,214 user ratings</td>\n",
       "      <td>21 (2008)</td>\n",
       "    </tr>\n",
       "    <tr>\n",
       "      <th>...</th>\n",
       "      <td>...</td>\n",
       "      <td>...</td>\n",
       "      <td>...</td>\n",
       "    </tr>\n",
       "    <tr>\n",
       "      <th>7782</th>\n",
       "      <td>/title/tt0448267/</td>\n",
       "      <td>6.6 based on 3,080 user ratings</td>\n",
       "      <td>Zozo (2005)</td>\n",
       "    </tr>\n",
       "    <tr>\n",
       "      <th>7783</th>\n",
       "      <td>/title/tt3776484/</td>\n",
       "      <td>6.1 based on 389 user ratings</td>\n",
       "      <td>Zubaan (2015)</td>\n",
       "    </tr>\n",
       "    <tr>\n",
       "      <th>7784</th>\n",
       "      <td>Not Found</td>\n",
       "      <td>Not Found</td>\n",
       "      <td>Not Found</td>\n",
       "    </tr>\n",
       "    <tr>\n",
       "      <th>7785</th>\n",
       "      <td>/title/tt7239256/</td>\n",
       "      <td>6.9 based on 1,867 user ratings</td>\n",
       "      <td>Zumbo's Just Desserts (2016) (TV Series)</td>\n",
       "    </tr>\n",
       "    <tr>\n",
       "      <th>7786</th>\n",
       "      <td>/title/tt9015306/</td>\n",
       "      <td>7.5 based on 1,217 user ratings</td>\n",
       "      <td>ZZ Top: That Little Ol' Band from Texas (2019)</td>\n",
       "    </tr>\n",
       "  </tbody>\n",
       "</table>\n",
       "<p>7787 rows × 3 columns</p>\n",
       "</div>"
      ],
      "text/plain": [
       "           IMDB_titleID                        IMDB_rating  \\\n",
       "0     /title/tt4922804/   7.4 based on 21,831 user ratings   \n",
       "1     /title/tt5979312/      5.9 based on 570 user ratings   \n",
       "2     /title/tt2100376/      4.6 based on 848 user ratings   \n",
       "3     /title/tt0472033/  7.1 based on 133,646 user ratings   \n",
       "4     /title/tt0478087/  6.8 based on 230,214 user ratings   \n",
       "...                 ...                                ...   \n",
       "7782  /title/tt0448267/    6.6 based on 3,080 user ratings   \n",
       "7783  /title/tt3776484/      6.1 based on 389 user ratings   \n",
       "7784          Not Found                          Not Found   \n",
       "7785  /title/tt7239256/    6.9 based on 1,867 user ratings   \n",
       "7786  /title/tt9015306/    7.5 based on 1,217 user ratings   \n",
       "\n",
       "                                       IMDB_title_name  \n",
       "0                               3% (2016) (TV Series)   \n",
       "1                                         7:19 (2016)   \n",
       "2                                        23:59 (2011)   \n",
       "3                                        9 (I) (2009)   \n",
       "4                                           21 (2008)   \n",
       "...                                                ...  \n",
       "7782                                      Zozo (2005)   \n",
       "7783                                    Zubaan (2015)   \n",
       "7784                                         Not Found  \n",
       "7785         Zumbo's Just Desserts (2016) (TV Series)   \n",
       "7786   ZZ Top: That Little Ol' Band from Texas (2019)   \n",
       "\n",
       "[7787 rows x 3 columns]"
      ]
     },
     "execution_count": 5,
     "metadata": {},
     "output_type": "execute_result"
    }
   ],
   "source": [
    "IMDBscorecleaner"
   ]
  },
  {
   "cell_type": "code",
   "execution_count": 9,
   "metadata": {},
   "outputs": [],
   "source": [
    "IMDBscorecleaner[\"IMDB_title_name\"].str.upper()\n",
    "IMDBscorecleaner2 = IMDBscorecleaner[\"IMDB_title_name\"].str.strip()"
   ]
  },
  {
   "cell_type": "code",
   "execution_count": 10,
   "metadata": {},
   "outputs": [
    {
     "data": {
      "text/plain": [
       "0                                3% (2016) (TV Series)\n",
       "1                                          7:19 (2016)\n",
       "2                                         23:59 (2011)\n",
       "3                                         9 (I) (2009)\n",
       "4                                            21 (2008)\n",
       "                             ...                      \n",
       "7782                                       Zozo (2005)\n",
       "7783                                     Zubaan (2015)\n",
       "7784                                         Not Found\n",
       "7785          Zumbo's Just Desserts (2016) (TV Series)\n",
       "7786    ZZ Top: That Little Ol' Band from Texas (2019)\n",
       "Name: IMDB_title_name, Length: 7787, dtype: object"
      ]
     },
     "execution_count": 10,
     "metadata": {},
     "output_type": "execute_result"
    }
   ],
   "source": [
    "IMDBscorecleaner2"
   ]
  },
  {
   "cell_type": "code",
   "execution_count": null,
   "metadata": {},
   "outputs": [],
   "source": [
    "for items in IMDBscorecleaner2.IMDB_title_name\n",
    "    if str(items) == \"(\"\n",
    "    \n",
    "    else\n",
    "    "
   ]
  }
 ],
 "metadata": {
  "kernelspec": {
   "display_name": "Python 3",
   "language": "python",
   "name": "python3"
  },
  "language_info": {
   "codemirror_mode": {
    "name": "ipython",
    "version": 3
   },
   "file_extension": ".py",
   "mimetype": "text/x-python",
   "name": "python",
   "nbconvert_exporter": "python",
   "pygments_lexer": "ipython3",
   "version": "3.8.3"
  }
 },
 "nbformat": 4,
 "nbformat_minor": 4
}
